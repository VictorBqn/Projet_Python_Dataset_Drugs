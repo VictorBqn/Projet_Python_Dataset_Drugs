{
 "cells": [
  {
   "cell_type": "code",
   "execution_count": 4,
   "metadata": {},
   "outputs": [
    {
     "ename": "SyntaxError",
     "evalue": "invalid character '×' (U+00D7) (3281823283.py, line 13)",
     "output_type": "error",
     "traceback": [
      "\u001b[1;36m  Cell \u001b[1;32mIn[4], line 13\u001b[1;36m\u001b[0m\n\u001b[1;33m    1885 rows × 32 columns\u001b[0m\n\u001b[1;37m              ^\u001b[0m\n\u001b[1;31mSyntaxError\u001b[0m\u001b[1;31m:\u001b[0m invalid character '×' (U+00D7)\n"
     ]
    }
   ],
   "source": [
    "# ID\tAge\tGender\tEducation\tCountry\tEthnicity\tNeurticism_Score\tExtraversion_score\tOpenness_to_experience_score\tAgreeableness\t...\tEcstasy\tHeroin\tKetamine\tLegalh\tLSD\tMeth\tMushrooms\tNicotine\tSemeron_fictious\tVolatile_substance_abuse\n",
    "# 0\t1\t0.49788\t0.48246\t-0.05921\t0.96082\t0.12600\t0.31287\t-0.57545\t-0.58331\t-0.91699\t...\tCL0\tCL0\tCL0\tCL0\tCL0\tCL0\tCL0\tCL2\tCL0\tCL0\n",
    "# 1\t2\t-0.07854\t-0.48246\t1.98437\t0.96082\t-0.31685\t-0.67825\t1.93886\t1.43533\t0.76096\t...\tCL4\tCL0\tCL2\tCL0\tCL2\tCL3\tCL0\tCL4\tCL0\tCL0\n",
    "# 2\t3\t0.49788\t-0.48246\t-0.05921\t0.96082\t-0.31685\t-0.46725\t0.80523\t-0.84732\t-1.62090\t...\tCL0\tCL0\tCL0\tCL0\tCL0\tCL0\tCL1\tCL0\tCL0\tCL0\n",
    "# 3\t4\t-0.95197\t0.48246\t1.16365\t0.96082\t-0.31685\t-0.14882\t-0.80615\t-0.01928\t0.59042\t...\tCL0\tCL0\tCL2\tCL0\tCL0\tCL0\tCL0\tCL2\tCL0\tCL0\n",
    "# 4\t5\t0.49788\t0.48246\t1.98437\t0.96082\t-0.31685\t0.73545\t-1.63340\t-0.45174\t-0.30172\t...\tCL1\tCL0\tCL0\tCL1\tCL0\tCL0\tCL2\tCL2\tCL0\tCL0\n",
    "# ...\t...\t...\t...\t...\t...\t...\t...\t...\t...\t...\t...\t...\t...\t...\t...\t...\t...\t...\t...\t...\t...\n",
    "# 1880\t1884\t-0.95197\t0.48246\t-0.61113\t-0.57009\t-0.31685\t-1.19430\t1.74091\t1.88511\t0.76096\t...\tCL0\tCL0\tCL0\tCL3\tCL3\tCL0\tCL0\tCL0\tCL0\tCL5\n",
    "# 1881\t1885\t-0.95197\t-0.48246\t-0.61113\t-0.57009\t-0.31685\t-0.24649\t1.74091\t0.58331\t0.76096\t...\tCL2\tCL0\tCL0\tCL3\tCL5\tCL4\tCL4\tCL5\tCL0\tCL0\n",
    "# 1882\t1886\t-0.07854\t0.48246\t0.45468\t-0.57009\t-0.31685\t1.13281\t-1.37639\t-1.27553\t-1.77200\t...\tCL4\tCL0\tCL2\tCL0\tCL2\tCL0\tCL2\tCL6\tCL0\tCL0\n",
    "# 1883\t1887\t-0.95197\t0.48246\t-0.61113\t-0.57009\t-0.31685\t0.91093\t-1.92173\t0.29338\t-1.62090\t...\tCL3\tCL0\tCL0\tCL3\tCL3\tCL0\tCL3\tCL4\tCL0\tCL0\n",
    "# 1884\t1888\t-0.95197\t-0.48246\t-0.61113\t0.21128\t-0.31685\t-0.46725\t2.12700\t1.65653\t1.11406\t...\tCL3\tCL0\tCL0\tCL3\tCL3\tCL0\tCL3\tCL6\tCL0\tCL2\n",
    "# 1885 rows × 32 columns"
   ]
  }
 ],
 "metadata": {
  "kernelspec": {
   "display_name": "Python 3",
   "language": "python",
   "name": "python3"
  },
  "language_info": {
   "codemirror_mode": {
    "name": "ipython",
    "version": 3
   },
   "file_extension": ".py",
   "mimetype": "text/x-python",
   "name": "python",
   "nbconvert_exporter": "python",
   "pygments_lexer": "ipython3",
   "version": "3.11.5"
  }
 },
 "nbformat": 4,
 "nbformat_minor": 2
}
